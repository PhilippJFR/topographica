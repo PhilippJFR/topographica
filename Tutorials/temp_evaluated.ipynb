{
 "metadata": {
  "name": ""
 },
 "nbformat": 3,
 "nbformat_minor": 0,
 "worksheets": [
  {
   "cells": [
    {
     "cell_type": "markdown",
     "metadata": {},
     "source": [
      "# SOM Retinotopy\n",
      "\n",
      "This IPython notebook defines and explores the Kohonen SOM (self-organizing map) model of retinotopy described in pages 53-59 of:\n",
      "<blockquote>\n",
      "  Miikkulainen, Bednar, Choe, and Sirosh (2005),\n",
      "  <a href=\"http://computationalmaps.org\">Computational Maps in the Visual Cortex</a>, Springer.\n",
      "</blockquote>\n",
      "\n",
      "If you can double-click on this text and edit it, you are in a live [IPython Notebook](http://ipython.org/notebook) environment where you can run the code and explore the model. Otherwise, you are viewing a static (e.g. HTML) copy of the notebook, which allows you to see the precomputed results only.  To switch to the live notebook, see the [notebook installation instructions](https://github.com/ioam/topographica).\n",
      "\n",
      "This IPython notebook constructs the definition of the SOM retinotopy model in the [Topographica](http://www.topographica.org) simulator, and shows how it organizes.\n",
      "\n",
      "A static version of this notebook may be viewed [online](http://ioam.github.io/media/som_retinotopy.html). To run the live notebook and explore the model interactively, you will need both IPython Notebook and Topographica.\n",
      "\n",
      "If you prefer the older Tk GUI interface or a command line, you may use the som_retinotopy.ty script distributed with Topographica, without IPython Notebook, as follows:\n",
      "\n",
      "```bash\n",
      "./topographica -g examples/som_retinotopy.ty\n",
      "```\n",
      "\n",
      "To run this Notebook version, you can run all cells in order automatically:\n",
      "* Selecting ``Kernel -> Restart`` from the menu above.\n",
      "* Selecting ``Cell -> Run All``. \n",
      "\n",
      "Alternatively, you may run each cell in sequence, starting at the top of the notebook and pressing ``Shift + Enter``.\n",
      "\n",
      "## Model definition\n",
      "The next three cells define the SOM model in its entirety (copied from examples/som_retinotopy.ty).  First, we import required libraries and we declare various parameters to allow the modeller to control the behavior:"
     ]
    },
    {
     "cell_type": "code",
     "collapsed": false,
     "input": [
      "\"\"\"\n",
      "Basic example of a fully connected SOM retinotopic map with ConnectionFields.\n",
      "\n",
      "Contains a Retina (2D Gaussian generator) fully connected to a V1\n",
      "(SOM) sheet, with no initial ordering for topography.\n",
      "\n",
      "Constructed to match the retinotopic simulation from page 53-59 of\n",
      "Miikkulainen, Bednar, Choe, and Sirosh (2005), Computational Maps in\n",
      "the Visual Cortex, Springer.  Known differences include:\n",
      "\n",
      " - The cortex_density and retina_density are smaller for\n",
      "   speed (compared to 40 and 24 in the book).\n",
      " - The original simulation used a radius_0 of 13.3/40, which does work\n",
      "   for some random seeds, but a much larger radius is used here so that\n",
      "   it converges more reliably.\n",
      "\"\"\"\n",
      "\n",
      "import topo\n",
      "import imagen\n",
      "\n",
      "from math import exp, sqrt\n",
      "\n",
      "import param\n",
      "\n",
      "from topo import learningfn,numbergen,transferfn,pattern,projection,responsefn,sheet\n",
      "\n",
      "import topo.learningfn.projfn\n",
      "import topo.pattern.random\n",
      "import topo.responsefn.optimized\n",
      "import topo.transferfn.misc\n",
      "\n",
      "# Parameters that can be passed on the command line using -p\n",
      "from topo.misc.commandline import global_params as p\n",
      "p.add(\n",
      "\n",
      "    retina_density=param.Number(default=10.0,bounds=(0,None),\n",
      "        inclusive_bounds=(False,True),doc=\"\"\"\n",
      "        The nominal_density to use for the retina.\"\"\"),\n",
      "\n",
      "    cortex_density=param.Number(default=10.0,bounds=(0,None),\n",
      "        inclusive_bounds=(False,True),doc=\"\"\"\n",
      "        The nominal_density to use for V1.\"\"\"),\n",
      "\n",
      "    input_seed=param.Number(default=0,bounds=(0,None),doc=\"\"\"\n",
      "        Seed for the pseudorandom number generator controlling the\n",
      "        input patterns.\"\"\"),\n",
      "\n",
      "    weight_seed=param.Number(default=0,bounds=(0,None),doc=\"\"\"\n",
      "        Seed for the pseudorandom number generator controlling the\n",
      "        initial weight values.\"\"\"),\n",
      "\n",
      "    radius_0=param.Number(default=1.0,bounds=(0,None),doc=\"\"\"\n",
      "        Starting radius for the neighborhood function.\"\"\"),\n",
      "\n",
      "    alpha_0=param.Number(default=0.42,bounds=(\n",
      "\n",
      "\n",
      "0,None),doc=\"\"\"\n",
      "        Starting value for the learning rate.\"\"\"))"
     ],
     "language": "python",
     "metadata": {},
     "outputs": [],
     "prompt_number": 1
    },
    {
     "cell_type": "markdown",
     "metadata": {},
     "source": [
      "#### Customizing the model parameters\n",
      "\n",
      "The cell below may be used to modify any of the parameters defined above, allowing you to explore the parameter space of the model. To illustrate, the default retina and cortex densities are set to 10 (their default values), but you may change the value of any parameter in this way:"
     ]
    },
    {
     "cell_type": "code",
     "collapsed": false,
     "input": [
      "p.retina_density=10\n",
      "p.cortex_density=10"
     ],
     "language": "python",
     "metadata": {},
     "outputs": [],
     "prompt_number": 2
    },
    {
     "cell_type": "markdown",
     "metadata": {},
     "source": [
      "The <a href=\"http://ioam.github.io/media/som_retinotopy.html\">online version of this notebook</a> normally uses the full retinal and cortical densities of 24 and 40, respectively, but densities of 10 are the default because they should be sufficient for most purposes.  Using the parameters and definitions above, the following code defines the SOM model of retinotopy, by defining the input patterns, the Sheets, and the connections between Sheets:"
     ]
    },
    {
     "cell_type": "code",
     "collapsed": false,
     "input": [
      "# Using time dependent random streams.\n",
      "# Corresponding numbergen objects should be given suitable names.\n",
      "param.Dynamic.time_dependent=True\n",
      "numbergen.RandomDistribution.time_dependent = True\n",
      "\n",
      "# input pattern\n",
      "sheet.GeneratorSheet.period = 1.0\n",
      "sheet.GeneratorSheet.phase = 0.05\n",
      "sheet.GeneratorSheet.nominal_density = p.retina_density\n",
      "\n",
      "input_pattern = pattern.Gaussian(scale=1.0,size=2*sqrt(2.0*0.1*24.0)/24.0,\n",
      "    aspect_ratio=1.0,orientation=0,\n",
      "    x=numbergen.UniformRandom(name='xgen', lbound=-0.5,ubound=0.5, seed=p.input_seed+12),\n",
      "    y=numbergen.UniformRandom(name='ygen', lbound=-0.5,ubound=0.5, seed=p.input_seed+56))\n",
      "\n",
      "\n",
      "# Local variable to allow weights to be controlled easily\n",
      "pattern.random.seed((p.weight_seed+67,p.weight_seed+89))\n",
      "\n",
      "topo.sim['Retina'] = sheet.GeneratorSheet(input_generator=input_pattern)\n",
      "\n",
      "topo.sim['V1'] = sheet.CFSheet(\n",
      "    nominal_density = p.cortex_density,\n",
      "    # Original CMVC simulation used an initial radius of 13.3/40.0 (~0.33)\n",
      "    output_fns=[transferfn.misc.KernelMax(density=p.cortex_density,\n",
      "        kernel_radius=numbergen.BoundedNumber(\n",
      "            bounds=(0.5/40,None),\n",
      "            generator=numbergen.ExponentialDecay(\n",
      "                starting_value=p.radius_0,\n",
      "                time_constant=40000/5.0)))])\n",
      "\n",
      "topo.sim.connect('Retina','V1',name='Afferent',delay=0.05,\n",
      "    connection_type=projection.CFProjection,\n",
      "    weights_generator = pattern.random.UniformRandom(),\n",
      "    nominal_bounds_template=sheet.BoundingBox(radius=1.0), # fully connected network.\n",
      "    learning_rate=numbergen.ExponentialDecay(\n",
      "        starting_value = p.alpha_0,\n",
      "        time_constant=40000/6.0),\n",
      "    response_fn = responsefn.optimized.CFPRF_EuclideanDistance_opt(),\n",
      "    learning_fn = learningfn.projfn.CFPLF_EuclideanHebbian())\n",
      "\n",
      "'Loaded the self-organizing map model (som_retinotopy)'"
     ],
     "language": "python",
     "metadata": {},
     "outputs": [
      {
       "output_type": "pyout",
       "prompt_number": 3,
       "text": [
        "'Loaded the self-organizing map model (som_retinotopy)'"
       ]
      }
     ],
     "prompt_number": 3
    },
    {
     "cell_type": "markdown",
     "metadata": {},
     "source": [
      "# Exploring the model"
     ]
    },
    {
     "cell_type": "code",
     "collapsed": false,
     "input": [
      "from dataviews.operation import RGBA\n",
      "from dataviews import SheetView\n",
      "import numpy as np"
     ],
     "language": "python",
     "metadata": {},
     "outputs": [],
     "prompt_number": 4
    },
    {
     "cell_type": "markdown",
     "metadata": {},
     "source": [
      "Now the model has been defined, we can explore it.  The structure of the loaded model is shown in this screenshot taken from the Tk GUI's Model Editor:\n",
      "\n",
      "### **Model structure**\n",
      "\n",
      "<center>\n",
      "<img src='http://topographica.org/_images/som_network_diagram.png'/>\n",
      "</center>\n",
      "\n",
      "\n",
      "The large circle indicates that the Retina Sheet is fully connected to the V1 Sheet.\n",
      "\n",
      "### **Initial weights**\n",
      "\n",
      "The plot below shows the initial set of weights from a 10x10 subset of the V1 neurons (i.e., every neuron with the reduced cortex_density, or every fourth neuron for cortex_density=40):"
     ]
    },
    {
     "cell_type": "code",
     "collapsed": false,
     "input": [
      "topo.sim.V1.Afferent.grid()"
     ],
     "language": "python",
     "metadata": {},
     "outputs": [
      {
       "output_type": "pyout",
       "prompt_number": 5,
       "text": [
        "CoordinateGrid(dimensions=[Dimension(cyclic=False, format_string='{name} = {val}{unit}', name='X', range=(0, 0), type=None, unit=None), Dimension(cyclic=False, format_string='{name} = {val}{unit}', name='Y', range=(0, 0), type=None, unit=None)], label='CFs', name='CoordinateGrid00641', title='V1 Afferent {label}')"
       ]
      }
     ],
     "prompt_number": 5
    },
    {
     "cell_type": "markdown",
     "metadata": {},
     "source": [
      "As we can see, the initial weights are uniform random. Each neuron receives a full set of connections from all input units, and thus each has a 24x24 or 10x10 array of weights (depending on the retina_density).\n",
      "\n",
      "### **Initial Center-of-Gravity (CoG) plots**"
     ]
    },
    {
     "cell_type": "markdown",
     "metadata": {},
     "source": [
      "We can visualize the center of gravity (CoG) of the V1 Afferent weights using the following measurement command:"
     ]
    },
    {
     "cell_type": "code",
     "collapsed": false,
     "input": [
      "from topo.command.analysis import measure_cog, measure_or_pref\n",
      "cog_data = measure_cog()"
     ],
     "language": "python",
     "metadata": {},
     "outputs": [],
     "prompt_number": 6
    },
    {
     "cell_type": "markdown",
     "metadata": {},
     "source": [
      "The center of gravity (a.k.a. centroid or center of mass) is computed for each neuron using its set of incoming weights. The plot below shows each neuron represented by a point, with a line segment drawn from each neuron to each of its four immediate neighbors so that neighborhood relationships (if any) will be visible."
     ]
    },
    {
     "cell_type": "code",
     "collapsed": false,
     "input": [
      "cog_data.CoG.Afferent"
     ],
     "language": "python",
     "metadata": {},
     "outputs": [
      {
       "output_type": "pyout",
       "prompt_number": 7,
       "text": [
        "SheetStack(dimensions=[Dimension(cyclic=False, format_string='{name} = {val}{unit}', name='Time', range=(0, 0), type=<built-in function mpq>, unit=None)], name='SheetStack00680', title_suffix='\\n {dims}')"
       ]
      }
     ],
     "prompt_number": 7
    },
    {
     "cell_type": "markdown",
     "metadata": {},
     "source": [
      "From this plot is is clear that all of the neurons have a CoG near the center of the retina, which is to be expected because the weights are fully connected and evenly distributed (and thus all have an average (X,Y) value near the center of the retina). This plot presents the center-of-gravity values computed in the X and Y directions, shown below:"
     ]
    },
    {
     "cell_type": "code",
     "collapsed": false,
     "input": [
      "cog_data.XCoG.Afferent + cog_data.YCoG.Afferent"
     ],
     "language": "python",
     "metadata": {},
     "outputs": [
      {
       "output_type": "pyout",
       "prompt_number": 8,
       "text": [
        "GridLayout(dimensions=[Dimension(cyclic=False, format_string='{name} = {val}{unit}', name='Row', range=(0, 0), type=<type 'int'>, unit=None), Dimension(cyclic=False, format_string='{name} = {val}{unit}', name='Column', range=(0, 0), type=<type 'int'>, unit=None)], name='GridLayout00681')"
       ]
      }
     ],
     "prompt_number": 8
    },
    {
     "cell_type": "markdown",
     "metadata": {},
     "source": [
      "The V1 X CoG plot shows the X location preferred by each neuron, and the V1 Y CoG plot shows the preferred Y locations. The monochrome values are scaled so that the neuron with the smallest X preference is colored black, and that with the largest is colored white, regardless of the absolute preference values (due to normalization being enabled with the .N property). Thus the absolute values of the X or Y preferences are not visible in these plots. (Without normalization, values below 0.0 are cropped to black, so only normalized plots are useful for this particular example.)"
     ]
    },
    {
     "cell_type": "code",
     "collapsed": false,
     "input": [
      "%%channels X CoG * Y CoG * Blank => RGBA []\n",
      "blue_channel = SheetView(np.zeros(topo.sim.V1.shape), label='Blank')\n",
      "cog_data.XCoG.Afferent.N * cog_data.YCoG.Afferent.N * blue_channel"
     ],
     "language": "python",
     "metadata": {},
     "outputs": [
      {
       "output_type": "stream",
       "stream": "stderr",
       "text": [
        "ERROR: Cell magic `%%channels` not found.\n"
       ]
      }
     ],
     "prompt_number": 9
    },
    {
     "cell_type": "markdown",
     "metadata": {},
     "source": [
      "The colorful plot above shows a false-color visualization of the CoG values, where the amount of red in the plot is proportional to the X CoG, and the amount of green in the plot is proportional to the Y CoG. Where both X and Y are low, the plot is black or very dark, and where both are high the plot is yellow (because red and green light together appears yellow). This provides a way to visualize how smoothly the combined (X,Y) position is mapped, although at this stage of training it is not particularly useful."
     ]
    },
    {
     "cell_type": "markdown",
     "metadata": {},
     "source": [
      "## **Initial activity**\n",
      "\n",
      "This two plots below shows the response for each Sheet in the model, which is zero at the start of the simulation (and thus both plots are black)."
     ]
    },
    {
     "cell_type": "code",
     "collapsed": false,
     "input": [
      "topo.sim.Retina[:] + topo.sim.V1[:]"
     ],
     "language": "python",
     "metadata": {},
     "outputs": [
      {
       "output_type": "pyout",
       "prompt_number": 10,
       "text": [
        "GridLayout(dimensions=[Dimension(cyclic=False, format_string='{name} = {val}{unit}', name='Row', range=(0, 0), type=<type 'int'>, unit=None), Dimension(cyclic=False, format_string='{name} = {val}{unit}', name='Column', range=(0, 0), type=<type 'int'>, unit=None)], name='GridLayout00688')"
       ]
      }
     ],
     "prompt_number": 10
    },
    {
     "cell_type": "markdown",
     "metadata": {},
     "source": [
      "## Training stimuli\n",
      "\n",
      "We can have a look at what the training patterns that will be used to train the model without having to run it. In the cell labelled ``In [4]`` (in the model definition), we see where the training patterns are defined in a variable called ``input_pattern``. We see that the circular Gaussian stimulus has ``x`` and ``y`` values that are drawn from a random distribution by two independent``numbergen.UniformRandom``objects. We can now view what 100 frames of training patterns will look like:"
     ]
    },
    {
     "cell_type": "markdown",
     "metadata": {},
     "source": [
      "<center><h3 class='alert-info'>The videos below will only be displayed by default if your browser supports WebM HTML5 video</h3></center>  "
     ]
    },
    {
     "cell_type": "code",
     "collapsed": false,
     "input": [
      "%view webm:20"
     ],
     "language": "python",
     "metadata": {},
     "outputs": [
      {
       "output_type": "stream",
       "stream": "stderr",
       "text": [
        "ERROR: Line magic function `%view` not found.\n"
       ]
      }
     ],
     "prompt_number": 11
    },
    {
     "cell_type": "markdown",
     "metadata": {},
     "source": [
      "If you have problems with the animation, change ``webm`` to ``gif`` in the above magic. Note that this results in huge notebook file sizes and does not allow animations to be paused and restarted, so it's best if you use a suitable browser with HTML5/Webm support."
     ]
    },
    {
     "cell_type": "code",
     "collapsed": false,
     "input": [
      "imagen.Animation(pattern=input_pattern, frames=30, offset=0.05)"
     ],
     "language": "python",
     "metadata": {},
     "outputs": [
      {
       "output_type": "pyout",
       "prompt_number": 12,
       "text": [
        "Animation(dimensions=[Dimension(cyclic=False, format_string='{name} = {val}{unit}', name='Frames', range=(0, 0), type=None, unit=None)], frames=30, name='Animation00689', offset=0.05, pattern=Gaussian(aspect_ratio=1.0, bounds=BoundingBox(radius=0.5), mask=None, mask_shape=None, name='Gaussian00121', offset=0.0, orientation=0, output_fns=[], position=[UniformRandom(lbound=-0.5, name='xgen', time_dependent=True, time_fn=Time(name='Time00001', time_type=<built-in function mpq>, timestep=1.0, until=Infinity()), ubound=0.5), UniformRandom(lbound=-0.5, name='ygen', time_dependent=True, time_fn=Time(name='Time00001', time_type=<built-in function mpq>, timestep=1.0, until=Infinity()), ubound=0.5)], scale=1.0, size=0.18257418583505539, x=UniformRandom(lbound=-0.5, name='xgen', time_dependent=True, time_fn=Time(name='Time00001', time_type=<built-in function mpq>, timestep=1.0, until=Infinity()), ubound=0.5), xdensity=10.0, y=UniformRandom(lbound=-0.5, name='ygen', time_dependent=True, time_fn=Time(name='Time00001', time_type=<built-in function mpq>, timestep=1.0, until=Infinity()), ubound=0.5), ydensity=10.0), time_fn=Time(name='Time00001', time_type=<built-in function mpq>, timestep=1.0, until=Infinity()), timestep=1, title_suffix='\\n {dims}')"
       ]
      }
     ],
     "prompt_number": 12
    },
    {
     "cell_type": "markdown",
     "metadata": {},
     "source": [
      "## Preparing animated plots\n",
      "\n",
      "At the end of the notebook, we will generate a set of nice animations showing the plots we have already shown evolve over development. We now create a ``Collector`` object that collects all information needed for plotting and animation. We will collect the information we have just examined and advance the simulation one iteration:"
     ]
    },
    {
     "cell_type": "code",
     "collapsed": false,
     "input": [
      "from topo.analysis import Collector\n",
      "from topo.command.analysis import measure_or_pref, measure_cog\n",
      "\n",
      "c = Collector()\n",
      "c.collect(measure_or_pref)\n",
      "c.collect(measure_cog)\n",
      "\n",
      "c.Activity.Retina =      c.collect(topo.sim.Retina)\n",
      "c.Activity.V1 =          c.collect(topo.sim.V1)\n",
      "c.Activity.V1Afferent =  c.collect(topo.sim.V1.Afferent)\n",
      "c.CFs.Afferent =         c.collect(topo.sim.V1.Afferent, grid=True, rows=10, cols=10)"
     ],
     "language": "python",
     "metadata": {},
     "outputs": [],
     "prompt_number": 13
    },
    {
     "cell_type": "markdown",
     "metadata": {},
     "source": [
      "## **Activity after a single training iteration**\n",
      "\n",
      "After running the model a single iteration, the sheet activities now look as follows:"
     ]
    },
    {
     "cell_type": "code",
     "collapsed": false,
     "input": [
      "data = c(times=[1])"
     ],
     "language": "python",
     "metadata": {},
     "outputs": [
      {
       "output_type": "stream",
       "stream": "stdout",
       "text": [
        "\r",
        "Completion:\n",
        "[######################################################################] 100.0%"
       ]
      }
     ],
     "prompt_number": 14
    },
    {
     "cell_type": "code",
     "collapsed": false,
     "input": [
      "data.Activity.Retina + data.Activity.V1"
     ],
     "language": "python",
     "metadata": {},
     "outputs": [
      {
       "output_type": "pyout",
       "prompt_number": 15,
       "text": [
        "GridLayout(dimensions=[Dimension(cyclic=False, format_string='{name} = {val}{unit}', name='Row', range=(0, 0), type=<type 'int'>, unit=None), Dimension(cyclic=False, format_string='{name} = {val}{unit}', name='Column', range=(0, 0), type=<type 'int'>, unit=None)], name='GridLayout01458')"
       ]
      }
     ],
     "prompt_number": 15
    },
    {
     "cell_type": "markdown",
     "metadata": {},
     "source": [
      "In the Retina plot, each photoreceptor is represented as a pixel whose shade of grey codes the response level, increasing from black to white. As expected, this particular example matches the first frame we visualized in the training stimulus animation, and the location of the Gaussian is near the border of the retina. The V1 plot shows the response to that input, which for a SOM is initially a large Gaussian-shaped blob centered around the maximally responding unit."
     ]
    },
    {
     "cell_type": "markdown",
     "metadata": {},
     "source": [
      "## **Projection Activity**\n",
      "\n",
      "To see what the responses were before SOM\u2019s neighborhood function forced them into a Gaussian shape, you can look at the Projection Activity plot, which shows the feedforward activity in V1:"
     ]
    },
    {
     "cell_type": "code",
     "collapsed": false,
     "input": [
      "data.Activity.V1Afferent"
     ],
     "language": "python",
     "metadata": {},
     "outputs": [
      {
       "output_type": "pyout",
       "prompt_number": 16,
       "text": [
        "SheetStack(dimensions=[Dimension(cyclic=False, format_string='{name} = {val}{unit}', name='Time', range=(0, 0), type=<built-in function mpq>, unit=None)], name='SheetStack00956', title_suffix='\\n {dims}')"
       ]
      }
     ],
     "prompt_number": 16
    },
    {
     "cell_type": "markdown",
     "metadata": {},
     "source": [
      "Here these responses are best thought of as Euclidean proximity, not distance. This formulation of the SOM response function actually subtracts the distances from the max distance, to ensure that the response will be larger for smaller Euclidean distances (as one intuitively expects for a neural response). The V1 feedforward activity appears random because the Euclidean distance from the input vector to the initial random weight vector is random.\n",
      "\n",
      "\n",
      "## **Learning after a few iteration**\n",
      "\n",
      "If you look at the weights now we have run a single training iteration, you'll see that most of the neurons have learned new weight patterns based on this input:"
     ]
    },
    {
     "cell_type": "code",
     "collapsed": false,
     "input": [
      "data.CFs.Afferent"
     ],
     "language": "python",
     "metadata": {},
     "outputs": [
      {
       "output_type": "pyout",
       "prompt_number": 17,
       "text": [
        "CoordinateGrid(dimensions=[Dimension(cyclic=False, format_string='{name} = {val}{unit}', name='X', range=(0, 0), type=None, unit=None), Dimension(cyclic=False, format_string='{name} = {val}{unit}', name='Y', range=(0, 0), type=None, unit=None)], label='CFs', name='CoordinateGrid01457', title='V1 Afferent {label}')"
       ]
      }
     ],
     "prompt_number": 17
    },
    {
     "cell_type": "markdown",
     "metadata": {},
     "source": [
      "Some of the weights to each neuron have now changed due to learning. In the SOM algorithm, the unit with the maximum response (i.e., the minimum Euclidean distance between its weight vector and the input pattern) is chosen, and the weights of units within a circular area defined by a Gaussian-shaped neighborhood function around this neuron are updated.\n",
      "\n",
      "\n",
      "This effect is visible in this plot \u2013 a few neurons around the winning unit at the top middle have changed their weights. Let us run a few more iterations before having another look:"
     ]
    },
    {
     "cell_type": "code",
     "collapsed": false,
     "input": [
      "topo.sim.run(4)\n",
      "topo.sim.V1.Afferent.grid()"
     ],
     "language": "python",
     "metadata": {},
     "outputs": [
      {
       "output_type": "pyout",
       "prompt_number": 18,
       "text": [
        "CoordinateGrid(dimensions=[Dimension(cyclic=False, format_string='{name} = {val}{unit}', name='X', range=(0, 0), type=None, unit=None), Dimension(cyclic=False, format_string='{name} = {val}{unit}', name='Y', range=(0, 0), type=None, unit=None)], label='CFs', name='CoordinateGrid01959', title='V1 Afferent {label}')"
       ]
      }
     ],
     "prompt_number": 18
    },
    {
     "cell_type": "markdown",
     "metadata": {},
     "source": [
      "The weights have been updated again - it is clear after these five iterations that the input patterns are becoming represented in the weight patterns, though not very cleanly yet. We also see that the projection activity patterns are becoming smoother, since the weight vectors are now similar between neighboring neurons."
     ]
    },
    {
     "cell_type": "code",
     "collapsed": false,
     "input": [
      "topo.sim.V1.Afferent.projection_view().N"
     ],
     "language": "python",
     "metadata": {},
     "outputs": [
      {
       "output_type": "pyout",
       "prompt_number": 19,
       "text": [
        "SheetView(array([[ 0.88903359,  0.79214241,  0.85172367,  0.90845009,  0.91019238,\n",
        "         0.90828742,  1.        ,  0.97511137,  0.96671038,  0.87052132],\n",
        "       [ 0.83592401,  0.82833538,  0.93569693,  0.93987672,  0.9815619 ,\n",
        "         0.916064  ,  0.92912278,  0.97061101,  0.96939783,  0.87551549],\n",
        "       [ 0.82786867,  0.86271011,  0.84200244,  0.94575325,  0.95259433,\n",
        "         0.89144479,  0.99123591,  0.90584633,  0.95818751,  0.92055356],\n",
        "       [ 0.72385762,  0.73481481,  0.80024792,  0.8784974 ,  0.95256586,\n",
        "         0.89586313,  0.87675283,  0.94514019,  0.8719172 ,  0.88276304],\n",
        "       [ 0.61500289,  0.78028744,  0.87223101,  0.90869433,  0.87989233,\n",
        "         0.85629205,  0.86390409,  0.93630329,  0.85524049,  0.77453739],\n",
        "       [ 0.50954335,  0.72014125,  0.72043194,  0.78737703,  0.83473688,\n",
        "         0.86350637,  0.88718821,  0.86552942,  0.90050289,  0.84388688],\n",
        "       [ 0.40846098,  0.59671531,  0.63094121,  0.69137144,  0.71761866,\n",
        "         0.80030273,  0.74275097,  0.7895453 ,  0.68933175,  0.85621325],\n",
        "       [ 0.3070851 ,  0.22837332,  0.47616352,  0.59413721,  0.67987635,\n",
        "         0.73572193,  0.79437749,  0.74088456,  0.52947869,  0.58385027],\n",
        "       [ 0.41286876,  0.34845736,  0.19997728,  0.38692366,  0.48801546,\n",
        "         0.61189965,  0.63752643,  0.53782436,  0.41246549,  0.31682573],\n",
        "       [ 0.        ,  0.04488979,  0.04293868,  0.42878496,  0.45395048,\n",
        "         0.27157663,  0.45792944,  0.45306346,  0.15210967,  0.37341715]]), bounds=BoundingBox(radius=0.5), dimensions=[Dimension(cyclic=False, format_string='{name} = {val}{unit}', name='X', range=(0, 0), type=None, unit=None), Dimension(cyclic=False, format_string='{name} = {val}{unit}', name='Y', range=(0, 0), type=None, unit=None)], label='Activity', name='SheetView01962', roi_bounds=None, title='{label}', value=Dimension(cyclic=False, format_string='{name} = {val}{unit}', name='Dimension01961', range=(0, 0), type=None, unit=None))"
       ]
      }
     ],
     "prompt_number": 19
    },
    {
     "cell_type": "markdown",
     "metadata": {},
     "source": [
      "We will now advance to simulation time 100 because we will want to make animations regularly sampled every 100 steps:"
     ]
    },
    {
     "cell_type": "code",
     "collapsed": false,
     "input": [
      "topo.sim.run(95)"
     ],
     "language": "python",
     "metadata": {},
     "outputs": [],
     "prompt_number": 20
    },
    {
     "cell_type": "markdown",
     "metadata": {},
     "source": [
      "## At 5000 iterations\n",
      "\n",
      "Let us use our ``Collector`` object ``c`` to collect more measurements. We will start collecting measurements every 50 steps till we complete 5000 iterations, which should take a few seconds at the default densities, and may be a minute or two at the higher densities:"
     ]
    },
    {
     "cell_type": "code",
     "collapsed": false,
     "input": [
      "times = [topo.sim.time()*i for i in range(1,51)]\n",
      "print(\"Running %d measurements between iteration %s and iteration %s\" % (len(times), min(times), max(times)))"
     ],
     "language": "python",
     "metadata": {},
     "outputs": [
      {
       "output_type": "stream",
       "stream": "stdout",
       "text": [
        "Running 50 measurements between iteration 100 and iteration 5000\n"
       ]
      }
     ],
     "prompt_number": 21
    },
    {
     "cell_type": "code",
     "collapsed": false,
     "input": [
      "data = c(data, times=times)"
     ],
     "language": "python",
     "metadata": {},
     "outputs": [
      {
       "output_type": "stream",
       "stream": "stdout",
       "text": [
        "\r",
        "Completion:\n",
        "[######################################################################] 100.0%"
       ]
      }
     ],
     "prompt_number": 22
    },
    {
     "cell_type": "markdown",
     "metadata": {},
     "source": [
      "We see that the topographic grid plot and the activity evolves over this period as follows:"
     ]
    },
    {
     "cell_type": "markdown",
     "metadata": {},
     "source": [
      "<center><h3 class='alert-success'>In the live notebook you can remove the ``.last`` property to view an animation to 5000 iterations</h3></center>  "
     ]
    },
    {
     "cell_type": "code",
     "collapsed": false,
     "input": [
      "(data.Activity.V1 +  data.CoG.Afferent).last"
     ],
     "language": "python",
     "metadata": {},
     "outputs": [
      {
       "output_type": "pyout",
       "prompt_number": 23,
       "text": [
        "GridLayout(dimensions=[Dimension(cyclic=False, format_string='{name} = {val}{unit}', name='Row', range=(0, 0), type=<type 'int'>, unit=None), Dimension(cyclic=False, format_string='{name} = {val}{unit}', name='Column', range=(0, 0), type=<type 'int'>, unit=None)], name='GridLayout37265')"
       ]
      }
     ],
     "prompt_number": 23
    },
    {
     "cell_type": "markdown",
     "metadata": {},
     "source": [
      "The X and Y CoG plots are now smooth, but not yet the axis-aligned gradients (e.g. left to right and bottom to top) that an optimal topographic mapping would have:"
     ]
    },
    {
     "cell_type": "code",
     "collapsed": false,
     "input": [
      "(data.XCoG.Afferent.N + data.YCoG.Afferent.N).last"
     ],
     "language": "python",
     "metadata": {},
     "outputs": [
      {
       "output_type": "pyout",
       "prompt_number": 24,
       "text": [
        "GridLayout(dimensions=[Dimension(cyclic=False, format_string='{name} = {val}{unit}', name='Row', range=(0, 0), type=<type 'int'>, unit=None), Dimension(cyclic=False, format_string='{name} = {val}{unit}', name='Column', range=(0, 0), type=<type 'int'>, unit=None)], name='GridLayout37475')"
       ]
      }
     ],
     "prompt_number": 24
    },
    {
     "cell_type": "markdown",
     "metadata": {},
     "source": [
      "The false-color visualization has also smoothed out:"
     ]
    },
    {
     "cell_type": "code",
     "collapsed": false,
     "input": [
      "%%channels X CoG * Y CoG * Blank => RGBA []\n",
      "blue_channel = SheetView(np.zeros(topo.sim.V1.shape), label='Blank')\n",
      "(data.XCoG.Afferent.N * data.YCoG.Afferent.N * blue_channel).last"
     ],
     "language": "python",
     "metadata": {},
     "outputs": [
      {
       "output_type": "stream",
       "stream": "stderr",
       "text": [
        "ERROR: Cell magic `%%channels` not found.\n"
       ]
      }
     ],
     "prompt_number": 25
    },
    {
     "cell_type": "markdown",
     "metadata": {},
     "source": [
      "The weight patterns are still quite broad and not very selective for typical input patterns:"
     ]
    },
    {
     "cell_type": "code",
     "collapsed": false,
     "input": [
      "data.CFs.Afferent.last"
     ],
     "language": "python",
     "metadata": {},
     "outputs": [
      {
       "output_type": "pyout",
       "prompt_number": 26,
       "text": [
        "CoordinateGrid(dimensions=[Dimension(cyclic=False, format_string='{name} = {val}{unit}', name='X', range=(0, 0), type=None, unit=None), Dimension(cyclic=False, format_string='{name} = {val}{unit}', name='Y', range=(0, 0), type=None, unit=None)], label='CFs', name='CoordinateGrid01457', title='V1 Afferent {label}')"
       ]
      }
     ],
     "prompt_number": 26
    },
    {
     "cell_type": "markdown",
     "metadata": {},
     "source": [
      "## At 10000 iterations\n",
      "\n",
      "Additional training up to 10000 iterations (which becomes faster due to a smaller neighborhood radius) leads to a nearly flat, square map:"
     ]
    },
    {
     "cell_type": "code",
     "collapsed": false,
     "input": [
      "times = [5000+(100*i) for i in range(1,51)]\n",
      "print(\"Running %d measurements between iteration %s and iteration %s\" % (len(times), min(times), max(times)))"
     ],
     "language": "python",
     "metadata": {},
     "outputs": [
      {
       "output_type": "stream",
       "stream": "stdout",
       "text": [
        "Running 50 measurements between iteration 5100 and iteration 10000\n"
       ]
      }
     ],
     "prompt_number": 27
    },
    {
     "cell_type": "code",
     "collapsed": false,
     "input": [
      "data = c(data, times=times)"
     ],
     "language": "python",
     "metadata": {},
     "outputs": [
      {
       "output_type": "stream",
       "stream": "stdout",
       "text": [
        "\r",
        "Completion:\n",
        "[######################################################################] 100.0%"
       ]
      }
     ],
     "prompt_number": 28
    },
    {
     "cell_type": "markdown",
     "metadata": {},
     "source": [
      "<center><h3 class='alert-success'>In the live notebook you can remove the ``.last`` property to view an animation to 10000 iterations</h3></center>  "
     ]
    },
    {
     "cell_type": "code",
     "collapsed": false,
     "input": [
      "data.CoG.Afferent.last"
     ],
     "language": "python",
     "metadata": {},
     "outputs": [
      {
       "output_type": "pyout",
       "prompt_number": 29,
       "text": [
        "Contours([array([[-0.24411409,  0.18494959],\n",
        "       [-0.19578341,  0.18994929],\n",
        "       [-0.14202123,  0.19666428],\n",
        "       [-0.08183134,  0.20403572],\n",
        "       [-0.01844923,  0.21123414],\n",
        "       [ 0.04502721,  0.21786507],\n",
        "       [ 0.10540418,  0.22368563],\n",
        "       [ 0.15921718,  0.22842576],\n",
        "       [ 0.20359677,  0.23189034],\n",
        "       [ 0.23947825,  0.23433562]]), array([[-0.24915405,  0.13811497],\n",
        "       [-0.20187687,  0.1412842 ],\n",
        "       [-0.14827548,  0.14647416],\n",
        "       [-0.08780974,  0.15253826],\n",
        "       [-0.02424576,  0.15859355],\n",
        "       [ 0.03912673,  0.16424738],\n",
        "       [ 0.09940627,  0.16934593],\n",
        "       [ 0.15347228,  0.17378889],\n",
        "       [ 0.19846091,  0.17759332],\n",
        "       [ 0.23521001,  0.18122032]]), array([[-0.25443918,  0.08829485],\n",
        "       [-0.20883738,  0.0879007 ],\n",
        "       [-0.15589754,  0.08959841],\n",
        "       [-0.09541642,  0.09225883],\n",
        "       [-0.03163774,  0.09513227],\n",
        "       [ 0.03190419,  0.09790333],\n",
        "       [ 0.09247608,  0.10052485],\n",
        "       [ 0.14717573,  0.10313857],\n",
        "       [ 0.19307566,  0.1061431 ],\n",
        "       [ 0.23091421,  0.11035974]]), array([[-0.25796306,  0.03566363],\n",
        "       [-0.21417194,  0.03027806],\n",
        "       [-0.16241779,  0.02676178],\n",
        "       [-0.10260333,  0.02429025],\n",
        "       [-0.0391507 ,  0.02246978],\n",
        "       [ 0.02433157,  0.02105464],\n",
        "       [ 0.0851912 ,  0.01999261],\n",
        "       [ 0.14053439,  0.01963993],\n",
        "       [ 0.18724389,  0.02088338],\n",
        "       [ 0.22586617,  0.02497242]]), array([[-0.25867027, -0.01656587],\n",
        "       [-0.21628463, -0.02720564],\n",
        "       [-0.16593482, -0.0362998 ],\n",
        "       [-0.10747406, -0.04412255],\n",
        "       [-0.04515339, -0.05062185],\n",
        "       [ 0.0176298 , -0.05605267],\n",
        "       [ 0.07829708, -0.06061503],\n",
        "       [ 0.13381269, -0.06385678],\n",
        "       [ 0.18081228, -0.06449862],\n",
        "       [ 0.21954416, -0.0610093 ]]), array([[-0.25673264, -0.06657383],\n",
        "       [-0.2151411 , -0.0814816 ],\n",
        "       [-0.16609826, -0.0948885 ],\n",
        "       [-0.10941516, -0.10650844],\n",
        "       [-0.04898527, -0.1159999 ],\n",
        "       [ 0.01221018, -0.12375321],\n",
        "       [ 0.07174273, -0.13020748],\n",
        "       [ 0.1264955 , -0.13496902],\n",
        "       [ 0.17299422, -0.13663288],\n",
        "       [ 0.2111693 , -0.13366619]]), array([[-0.25312376, -0.1131842 ],\n",
        "       [-0.21191632, -0.13061078],\n",
        "       [-0.16397873, -0.14612345],\n",
        "       [-0.10919285, -0.15910776],\n",
        "       [-0.05111703, -0.16922819],\n",
        "       [ 0.00770773, -0.1771122 ],\n",
        "       [ 0.06510047, -0.18345665],\n",
        "       [ 0.11808595, -0.18804405],\n",
        "       [ 0.16334037, -0.18959021],\n",
        "       [ 0.20055325, -0.18675702]]), array([[-0.2490567 , -0.15477872],\n",
        "       [-0.20829977, -0.17299963],\n",
        "       [-0.16142358, -0.18859159],\n",
        "       [-0.10848073, -0.20089885],\n",
        "       [-0.05281863, -0.2098139 ],\n",
        "       [ 0.00333771, -0.21621681],\n",
        "       [ 0.05807195, -0.22102664],\n",
        "       [ 0.10872634, -0.22425161],\n",
        "       [ 0.1523283 , -0.22486067],\n",
        "       [ 0.18845681, -0.22178967]]), array([[-0.24555566, -0.18928831],\n",
        "       [-0.20583766, -0.20723997],\n",
        "       [-0.16027619, -0.22184393],\n",
        "       [-0.10908941, -0.23254079],\n",
        "       [-0.05552796, -0.23948926],\n",
        "       [-0.00170754, -0.24375822],\n",
        "       [ 0.05059216, -0.24643385],\n",
        "       [ 0.09901821, -0.24776382],\n",
        "       [ 0.14099862, -0.24704322],\n",
        "       [ 0.1761563 , -0.24354591]]), array([[-0.24324214, -0.21632616],\n",
        "       [-0.20555779, -0.23372727],\n",
        "       [-0.16189245, -0.24735055],\n",
        "       [-0.11247938, -0.25663523],\n",
        "       [-0.06051371, -0.26186644],\n",
        "       [-0.00823281, -0.26419295],\n",
        "       [ 0.04246602, -0.26482917],\n",
        "       [ 0.08934367, -0.26429528],\n",
        "       [ 0.13014416, -0.26229669],\n",
        "       [ 0.16468507, -0.25854527]]), array([[-0.24411409,  0.18494959],\n",
        "       [-0.24915405,  0.13811497],\n",
        "       [-0.25443918,  0.08829485],\n",
        "       [-0.25796306,  0.03566363],\n",
        "       [-0.25867027, -0.01656587],\n",
        "       [-0.25673264, -0.06657383],\n",
        "       [-0.25312376, -0.1131842 ],\n",
        "       [-0.2490567 , -0.15477872],\n",
        "       [-0.24555566, -0.18928831],\n",
        "       [-0.24324214, -0.21632616]]), array([[-0.19578341,  0.18994929],\n",
        "       [-0.20187687,  0.1412842 ],\n",
        "       [-0.20883738,  0.0879007 ],\n",
        "       [-0.21417194,  0.03027806],\n",
        "       [-0.21628463, -0.02720564],\n",
        "       [-0.2151411 , -0.0814816 ],\n",
        "       [-0.21191632, -0.13061078],\n",
        "       [-0.20829977, -0.17299963],\n",
        "       [-0.20583766, -0.20723997],\n",
        "       [-0.20555779, -0.23372727]]), array([[-0.14202123,  0.19666428],\n",
        "       [-0.14827548,  0.14647416],\n",
        "       [-0.15589754,  0.08959841],\n",
        "       [-0.16241779,  0.02676178],\n",
        "       [-0.16593482, -0.0362998 ],\n",
        "       [-0.16609826, -0.0948885 ],\n",
        "       [-0.16397873, -0.14612345],\n",
        "       [-0.16142358, -0.18859159],\n",
        "       [-0.16027619, -0.22184393],\n",
        "       [-0.16189245, -0.24735055]]), array([[-0.08183134,  0.20403572],\n",
        "       [-0.08780974,  0.15253826],\n",
        "       [-0.09541642,  0.09225883],\n",
        "       [-0.10260333,  0.02429025],\n",
        "       [-0.10747406, -0.04412255],\n",
        "       [-0.10941516, -0.10650844],\n",
        "       [-0.10919285, -0.15910776],\n",
        "       [-0.10848073, -0.20089885],\n",
        "       [-0.10908941, -0.23254079],\n",
        "       [-0.11247938, -0.25663523]]), array([[-0.01844923,  0.21123414],\n",
        "       [-0.02424576,  0.15859355],\n",
        "       [-0.03163774,  0.09513227],\n",
        "       [-0.0391507 ,  0.02246978],\n",
        "       [-0.04515339, -0.05062185],\n",
        "       [-0.04898527, -0.1159999 ],\n",
        "       [-0.05111703, -0.16922819],\n",
        "       [-0.05281863, -0.2098139 ],\n",
        "       [-0.05552796, -0.23948926],\n",
        "       [-0.06051371, -0.26186644]]), array([[ 0.04502721,  0.21786507],\n",
        "       [ 0.03912673,  0.16424738],\n",
        "       [ 0.03190419,  0.09790333],\n",
        "       [ 0.02433157,  0.02105464],\n",
        "       [ 0.0176298 , -0.05605267],\n",
        "       [ 0.01221018, -0.12375321],\n",
        "       [ 0.00770773, -0.1771122 ],\n",
        "       [ 0.00333771, -0.21621681],\n",
        "       [-0.00170754, -0.24375822],\n",
        "       [-0.00823281, -0.26419295]]), array([[ 0.10540418,  0.22368563],\n",
        "       [ 0.09940627,  0.16934593],\n",
        "       [ 0.09247608,  0.10052485],\n",
        "       [ 0.0851912 ,  0.01999261],\n",
        "       [ 0.07829708, -0.06061503],\n",
        "       [ 0.07174273, -0.13020748],\n",
        "       [ 0.06510047, -0.18345665],\n",
        "       [ 0.05807195, -0.22102664],\n",
        "       [ 0.05059216, -0.24643385],\n",
        "       [ 0.04246602, -0.26482917]]), array([[ 0.15921718,  0.22842576],\n",
        "       [ 0.15347228,  0.17378889],\n",
        "       [ 0.14717573,  0.10313857],\n",
        "       [ 0.14053439,  0.01963993],\n",
        "       [ 0.13381269, -0.06385678],\n",
        "       [ 0.1264955 , -0.13496902],\n",
        "       [ 0.11808595, -0.18804405],\n",
        "       [ 0.10872634, -0.22425161],\n",
        "       [ 0.09901821, -0.24776382],\n",
        "       [ 0.08934367, -0.26429528]]), array([[ 0.20359677,  0.23189034],\n",
        "       [ 0.19846091,  0.17759332],\n",
        "       [ 0.19307566,  0.1061431 ],\n",
        "       [ 0.18724389,  0.02088338],\n",
        "       [ 0.18081228, -0.06449862],\n",
        "       [ 0.17299422, -0.13663288],\n",
        "       [ 0.16334037, -0.18959021],\n",
        "       [ 0.1523283 , -0.22486067],\n",
        "       [ 0.14099862, -0.24704322],\n",
        "       [ 0.13014416, -0.26229669]]), array([[ 0.23947825,  0.23433562],\n",
        "       [ 0.23521001,  0.18122032],\n",
        "       [ 0.23091421,  0.11035974],\n",
        "       [ 0.22586617,  0.02497242],\n",
        "       [ 0.21954416, -0.0610093 ],\n",
        "       [ 0.2111693 , -0.13366619],\n",
        "       [ 0.20055325, -0.18675702],\n",
        "       [ 0.18845681, -0.22178967],\n",
        "       [ 0.1761563 , -0.24354591],\n",
        "       [ 0.16468507, -0.25854527]])], bounds=BoundingBox(radius=0.5), dimensions=[Dimension(cyclic=False, format_string='{name} = {val}{unit}', name='X', range=(0, 0), type=None, unit=None), Dimension(cyclic=False, format_string='{name} = {val}{unit}', name='Y', range=(0, 0), type=None, unit=None)], label='Center of Gravity', name='Contours72364', roi_bounds=None, title='{label}', value=Dimension(cyclic=False, format_string='{name} = {val}{unit}', name='Dimension72365', range=(0, 0), type=None, unit=None))"
       ]
      }
     ],
     "prompt_number": 29
    },
    {
     "cell_type": "markdown",
     "metadata": {},
     "source": [
      "Yet the weight patterns are still quite broad and not very selective for typical input patterns, because the neighborhood radius (initially 1.0 in Sheet coordinates, i.e. larger than the entire V1) is still large enough to force neighbors to respond to a wide range of patterns:"
     ]
    },
    {
     "cell_type": "code",
     "collapsed": false,
     "input": [
      "topo.sim.V1.output_fns[0].kernel_radius"
     ],
     "language": "python",
     "metadata": {},
     "outputs": [
      {
       "output_type": "pyout",
       "prompt_number": 30,
       "text": [
        "0.2865047968601901"
       ]
      }
     ],
     "prompt_number": 30
    },
    {
     "cell_type": "code",
     "collapsed": false,
     "input": [
      "data.CFs.Afferent.last"
     ],
     "language": "python",
     "metadata": {},
     "outputs": [
      {
       "output_type": "pyout",
       "prompt_number": 31,
       "text": [
        "CoordinateGrid(dimensions=[Dimension(cyclic=False, format_string='{name} = {val}{unit}', name='X', range=(0, 0), type=None, unit=None), Dimension(cyclic=False, format_string='{name} = {val}{unit}', name='Y', range=(0, 0), type=None, unit=None)], label='CFs', name='CoordinateGrid01457', title='V1 Afferent {label}')"
       ]
      }
     ],
     "prompt_number": 31
    },
    {
     "cell_type": "markdown",
     "metadata": {},
     "source": [
      "## At 30000 iterations"
     ]
    },
    {
     "cell_type": "markdown",
     "metadata": {},
     "source": [
      "By 30000 iterations the map has good coverage of the available portion of the input space:"
     ]
    },
    {
     "cell_type": "code",
     "collapsed": false,
     "input": [
      "times = [10000+(100*i) for i in range(1,201)]\n",
      "print(\"Running %d measurements between iteration %s and iteration %s\" % (len(times), min(times), max(times)))"
     ],
     "language": "python",
     "metadata": {},
     "outputs": [
      {
       "output_type": "stream",
       "stream": "stdout",
       "text": [
        "Running 200 measurements between iteration 10100 and iteration 30000\n"
       ]
      }
     ],
     "prompt_number": 32
    },
    {
     "cell_type": "code",
     "collapsed": false,
     "input": [
      "data = c(data, times=times)"
     ],
     "language": "python",
     "metadata": {},
     "outputs": [
      {
       "output_type": "stream",
       "stream": "stdout",
       "text": [
        "\r",
        "Completion:\n",
        "[######################################################################] 100.0%"
       ]
      }
     ],
     "prompt_number": 33
    },
    {
     "cell_type": "code",
     "collapsed": false,
     "input": [
      "data.CoG.Afferent.last"
     ],
     "language": "python",
     "metadata": {},
     "outputs": [
      {
       "output_type": "pyout",
       "prompt_number": 34,
       "text": [
        "Contours([array([[-0.37724664,  0.3820043 ],\n",
        "       [-0.30272056,  0.37346061],\n",
        "       [-0.21680905,  0.37620615],\n",
        "       [-0.13484758,  0.3776884 ],\n",
        "       [-0.04424818,  0.37793222],\n",
        "       [ 0.04537399,  0.37982427],\n",
        "       [ 0.13446451,  0.38144674],\n",
        "       [ 0.2223984 ,  0.37800973],\n",
        "       [ 0.31218743,  0.37632101],\n",
        "       [ 0.38019322,  0.37875062]]), array([[-0.37509946,  0.31051007],\n",
        "       [-0.30609513,  0.30641677],\n",
        "       [-0.21990682,  0.30584469],\n",
        "       [-0.13316617,  0.30508731],\n",
        "       [-0.04995498,  0.30384234],\n",
        "       [ 0.0417691 ,  0.3104658 ],\n",
        "       [ 0.13352434,  0.31411827],\n",
        "       [ 0.22586212,  0.30665908],\n",
        "       [ 0.31199632,  0.30157406],\n",
        "       [ 0.37837582,  0.30627306]]), array([[-0.37757866,  0.22132926],\n",
        "       [-0.31433378,  0.21863313],\n",
        "       [-0.22483687,  0.21060343],\n",
        "       [-0.14022549,  0.21543534],\n",
        "       [-0.05676634,  0.21755311],\n",
        "       [ 0.03851777,  0.21905526],\n",
        "       [ 0.13364764,  0.22495268],\n",
        "       [ 0.22020788,  0.21928794],\n",
        "       [ 0.30839954,  0.21312724],\n",
        "       [ 0.37714738,  0.22326511]]), array([[-0.378969  ,  0.13374648],\n",
        "       [-0.31108695,  0.13476623],\n",
        "       [-0.22431358,  0.12348656],\n",
        "       [-0.13946391,  0.12582711],\n",
        "       [-0.05398721,  0.13107284],\n",
        "       [ 0.03399709,  0.12775382],\n",
        "       [ 0.12556311,  0.13138718],\n",
        "       [ 0.21783955,  0.12678809],\n",
        "       [ 0.30263191,  0.12869815],\n",
        "       [ 0.37623322,  0.13501251]]), array([[-0.37621837,  0.04873584],\n",
        "       [-0.3091723 ,  0.04568605],\n",
        "       [-0.22230176,  0.03618054],\n",
        "       [-0.13381393,  0.03653897],\n",
        "       [-0.04601575,  0.0407737 ],\n",
        "       [ 0.04112494,  0.04053747],\n",
        "       [ 0.12486753,  0.04472095],\n",
        "       [ 0.21725086,  0.04118512],\n",
        "       [ 0.30087196,  0.03650008],\n",
        "       [ 0.36982099,  0.0436957 ]]), array([[-0.37765736, -0.03720206],\n",
        "       [-0.3069609 , -0.05058524],\n",
        "       [-0.221819  , -0.05692993],\n",
        "       [-0.1370135 , -0.0526813 ],\n",
        "       [-0.04907037, -0.04991527],\n",
        "       [ 0.0371942 , -0.04048015],\n",
        "       [ 0.12333914, -0.03884308],\n",
        "       [ 0.21361243, -0.03873643],\n",
        "       [ 0.29917102, -0.05188223],\n",
        "       [ 0.36857301, -0.04886505]]), array([[-0.37743314, -0.12859722],\n",
        "       [-0.30983743, -0.1366383 ],\n",
        "       [-0.22660678, -0.14260182],\n",
        "       [-0.14123488, -0.14098858],\n",
        "       [-0.05195584, -0.13676148],\n",
        "       [ 0.04023113, -0.13483579],\n",
        "       [ 0.12876094, -0.13434165],\n",
        "       [ 0.21854194, -0.14116262],\n",
        "       [ 0.30907362, -0.14371565],\n",
        "       [ 0.37636007, -0.1388652 ]]), array([[-0.38250006, -0.21483226],\n",
        "       [-0.31756693, -0.21478413],\n",
        "       [-0.22608455, -0.22607478],\n",
        "       [-0.13596896, -0.22776866],\n",
        "       [-0.04850617, -0.22662159],\n",
        "       [ 0.04035826, -0.22470692],\n",
        "       [ 0.12988353, -0.22571989],\n",
        "       [ 0.22127569, -0.22664246],\n",
        "       [ 0.3061192 , -0.22267489],\n",
        "       [ 0.3738953 , -0.21907095]]), array([[-0.37982857, -0.3073801 ],\n",
        "       [-0.31328137, -0.31037238],\n",
        "       [-0.22631809, -0.31257726],\n",
        "       [-0.13586122, -0.31166434],\n",
        "       [-0.04548872, -0.31068052],\n",
        "       [ 0.03676333, -0.30737423],\n",
        "       [ 0.13495145, -0.31123174],\n",
        "       [ 0.22483586, -0.31247109],\n",
        "       [ 0.31097074, -0.30607202],\n",
        "       [ 0.37980682, -0.30432604]]), array([[-0.37764791, -0.38083241],\n",
        "       [-0.30891168, -0.3824981 ],\n",
        "       [-0.22741062, -0.37393318],\n",
        "       [-0.13647764, -0.3730741 ],\n",
        "       [-0.04415122, -0.37581264],\n",
        "       [ 0.04932334, -0.37739167],\n",
        "       [ 0.13646283, -0.37959572],\n",
        "       [ 0.22548873, -0.38069919],\n",
        "       [ 0.31078101, -0.37472834],\n",
        "       [ 0.37986806, -0.37261719]]), array([[-0.37724664,  0.3820043 ],\n",
        "       [-0.37509946,  0.31051007],\n",
        "       [-0.37757866,  0.22132926],\n",
        "       [-0.378969  ,  0.13374648],\n",
        "       [-0.37621837,  0.04873584],\n",
        "       [-0.37765736, -0.03720206],\n",
        "       [-0.37743314, -0.12859722],\n",
        "       [-0.38250006, -0.21483226],\n",
        "       [-0.37982857, -0.3073801 ],\n",
        "       [-0.37764791, -0.38083241]]), array([[-0.30272056,  0.37346061],\n",
        "       [-0.30609513,  0.30641677],\n",
        "       [-0.31433378,  0.21863313],\n",
        "       [-0.31108695,  0.13476623],\n",
        "       [-0.3091723 ,  0.04568605],\n",
        "       [-0.3069609 , -0.05058524],\n",
        "       [-0.30983743, -0.1366383 ],\n",
        "       [-0.31756693, -0.21478413],\n",
        "       [-0.31328137, -0.31037238],\n",
        "       [-0.30891168, -0.3824981 ]]), array([[-0.21680905,  0.37620615],\n",
        "       [-0.21990682,  0.30584469],\n",
        "       [-0.22483687,  0.21060343],\n",
        "       [-0.22431358,  0.12348656],\n",
        "       [-0.22230176,  0.03618054],\n",
        "       [-0.221819  , -0.05692993],\n",
        "       [-0.22660678, -0.14260182],\n",
        "       [-0.22608455, -0.22607478],\n",
        "       [-0.22631809, -0.31257726],\n",
        "       [-0.22741062, -0.37393318]]), array([[-0.13484758,  0.3776884 ],\n",
        "       [-0.13316617,  0.30508731],\n",
        "       [-0.14022549,  0.21543534],\n",
        "       [-0.13946391,  0.12582711],\n",
        "       [-0.13381393,  0.03653897],\n",
        "       [-0.1370135 , -0.0526813 ],\n",
        "       [-0.14123488, -0.14098858],\n",
        "       [-0.13596896, -0.22776866],\n",
        "       [-0.13586122, -0.31166434],\n",
        "       [-0.13647764, -0.3730741 ]]), array([[-0.04424818,  0.37793222],\n",
        "       [-0.04995498,  0.30384234],\n",
        "       [-0.05676634,  0.21755311],\n",
        "       [-0.05398721,  0.13107284],\n",
        "       [-0.04601575,  0.0407737 ],\n",
        "       [-0.04907037, -0.04991527],\n",
        "       [-0.05195584, -0.13676148],\n",
        "       [-0.04850617, -0.22662159],\n",
        "       [-0.04548872, -0.31068052],\n",
        "       [-0.04415122, -0.37581264]]), array([[ 0.04537399,  0.37982427],\n",
        "       [ 0.0417691 ,  0.3104658 ],\n",
        "       [ 0.03851777,  0.21905526],\n",
        "       [ 0.03399709,  0.12775382],\n",
        "       [ 0.04112494,  0.04053747],\n",
        "       [ 0.0371942 , -0.04048015],\n",
        "       [ 0.04023113, -0.13483579],\n",
        "       [ 0.04035826, -0.22470692],\n",
        "       [ 0.03676333, -0.30737423],\n",
        "       [ 0.04932334, -0.37739167]]), array([[ 0.13446451,  0.38144674],\n",
        "       [ 0.13352434,  0.31411827],\n",
        "       [ 0.13364764,  0.22495268],\n",
        "       [ 0.12556311,  0.13138718],\n",
        "       [ 0.12486753,  0.04472095],\n",
        "       [ 0.12333914, -0.03884308],\n",
        "       [ 0.12876094, -0.13434165],\n",
        "       [ 0.12988353, -0.22571989],\n",
        "       [ 0.13495145, -0.31123174],\n",
        "       [ 0.13646283, -0.37959572]]), array([[ 0.2223984 ,  0.37800973],\n",
        "       [ 0.22586212,  0.30665908],\n",
        "       [ 0.22020788,  0.21928794],\n",
        "       [ 0.21783955,  0.12678809],\n",
        "       [ 0.21725086,  0.04118512],\n",
        "       [ 0.21361243, -0.03873643],\n",
        "       [ 0.21854194, -0.14116262],\n",
        "       [ 0.22127569, -0.22664246],\n",
        "       [ 0.22483586, -0.31247109],\n",
        "       [ 0.22548873, -0.38069919]]), array([[ 0.31218743,  0.37632101],\n",
        "       [ 0.31199632,  0.30157406],\n",
        "       [ 0.30839954,  0.21312724],\n",
        "       [ 0.30263191,  0.12869815],\n",
        "       [ 0.30087196,  0.03650008],\n",
        "       [ 0.29917102, -0.05188223],\n",
        "       [ 0.30907362, -0.14371565],\n",
        "       [ 0.3061192 , -0.22267489],\n",
        "       [ 0.31097074, -0.30607202],\n",
        "       [ 0.31078101, -0.37472834]]), array([[ 0.38019322,  0.37875062],\n",
        "       [ 0.37837582,  0.30627306],\n",
        "       [ 0.37714738,  0.22326511],\n",
        "       [ 0.37623322,  0.13501251],\n",
        "       [ 0.36982099,  0.0436957 ],\n",
        "       [ 0.36857301, -0.04886505],\n",
        "       [ 0.37636007, -0.1388652 ],\n",
        "       [ 0.3738953 , -0.21907095],\n",
        "       [ 0.37980682, -0.30432604],\n",
        "       [ 0.37986806, -0.37261719]])], bounds=BoundingBox(radius=0.5), dimensions=[Dimension(cyclic=False, format_string='{name} = {val}{unit}', name='X', range=(0, 0), type=None, unit=None), Dimension(cyclic=False, format_string='{name} = {val}{unit}', name='Y', range=(0, 0), type=None, unit=None)], label='Center of Gravity', name='Contours213666', roi_bounds=None, title='{label}', value=Dimension(cyclic=False, format_string='{name} = {val}{unit}', name='Dimension213667', range=(0, 0), type=None, unit=None))"
       ]
      }
     ],
     "prompt_number": 34
    },
    {
     "cell_type": "markdown",
     "metadata": {},
     "source": [
      "The final projection plot at 30000 now shows that each neuron has developed weights concentrated in a small part of the input space, matching a prototypical input at one location:"
     ]
    },
    {
     "cell_type": "code",
     "collapsed": false,
     "input": [
      "topo.sim.V1.output_fns[0].kernel_radius"
     ],
     "language": "python",
     "metadata": {},
     "outputs": [
      {
       "output_type": "pyout",
       "prompt_number": 35,
       "text": [
        "0.023517745856009114"
       ]
      }
     ],
     "prompt_number": 35
    },
    {
     "cell_type": "code",
     "collapsed": false,
     "input": [
      "data.CFs.Afferent.last"
     ],
     "language": "python",
     "metadata": {},
     "outputs": [
      {
       "output_type": "pyout",
       "prompt_number": 36,
       "text": [
        "CoordinateGrid(dimensions=[Dimension(cyclic=False, format_string='{name} = {val}{unit}', name='X', range=(0, 0), type=None, unit=None), Dimension(cyclic=False, format_string='{name} = {val}{unit}', name='Y', range=(0, 0), type=None, unit=None)], label='CFs', name='CoordinateGrid01457', title='V1 Afferent {label}')"
       ]
      }
     ],
     "prompt_number": 36
    },
    {
     "cell_type": "markdown",
     "metadata": {},
     "source": [
      "The final topographic mapping may have any one of a number of possible arrangements, flipped or rotated by 90 degrees along any axis or both axes.  E.g. a vertically flipped map will have blobs in each CF that are at the bottom for the top row of neurons, but the top for the bottom row of neurons. Nothing in the network reliably drives it to have any particular overall orientation or mapping apart from aligning to the square shape, and each of these possible organizations is equivalent functionally."
     ]
    },
    {
     "cell_type": "markdown",
     "metadata": {},
     "source": [
      "## Animations over 30000 iterations\n",
      "\n",
      "We can watch how the topographic mapping unfolds over all 30000 iterations we have run:"
     ]
    },
    {
     "cell_type": "code",
     "collapsed": false,
     "input": [
      "data.CoG.Afferent"
     ],
     "language": "python",
     "metadata": {},
     "outputs": [
      {
       "output_type": "pyout",
       "prompt_number": 37,
       "text": [
        "SheetStack(dimensions=[Dimension(cyclic=False, format_string='{name} = {val}{unit}', name='Time', range=(0, 0), type=<built-in function mpq>, unit=None)], name='SheetStack00945', title_suffix='\\n {dims}')"
       ]
      }
     ],
     "prompt_number": 37
    },
    {
     "cell_type": "markdown",
     "metadata": {},
     "source": [
      "And how the XCoG and YCoG components unfold:"
     ]
    },
    {
     "cell_type": "code",
     "collapsed": false,
     "input": [
      "data.XCoG.Afferent  + data.YCoG.Afferent"
     ],
     "language": "python",
     "metadata": {},
     "outputs": [
      {
       "output_type": "pyout",
       "prompt_number": 38,
       "text": [
        "GridLayout(dimensions=[Dimension(cyclic=False, format_string='{name} = {val}{unit}', name='Row', range=(0, 0), type=<type 'int'>, unit=None), Dimension(cyclic=False, format_string='{name} = {val}{unit}', name='Column', range=(0, 0), type=<type 'int'>, unit=None)], name='GridLayout214284')"
       ]
      }
     ],
     "prompt_number": 38
    },
    {
     "cell_type": "markdown",
     "metadata": {},
     "source": [
      "As well as the false colour CoG plot, where a perfectly organized mapping will have black in one corner and yellow in the opposite, with green and red in the two other corners, and smooth colors between each corner:"
     ]
    },
    {
     "cell_type": "code",
     "collapsed": false,
     "input": [
      "%%channels X CoG * Y CoG * Blank => RGBA []\n",
      "blue_channel = SheetView(np.zeros(topo.sim.V1.shape), label='Blank')\n",
      "data.XCoG.Afferent.N * data.YCoG.Afferent.N * blue_channel"
     ],
     "language": "python",
     "metadata": {},
     "outputs": [
      {
       "output_type": "stream",
       "stream": "stderr",
       "text": [
        "ERROR: Cell magic `%%channels` not found.\n"
       ]
      }
     ],
     "prompt_number": 39
    },
    {
     "cell_type": "markdown",
     "metadata": {},
     "source": [
      "The weights (generating this animation may take a couple of minutes):"
     ]
    },
    {
     "cell_type": "code",
     "collapsed": false,
     "input": [
      "data.CFs.Afferent"
     ],
     "language": "python",
     "metadata": {},
     "outputs": [
      {
       "output_type": "pyout",
       "prompt_number": 40,
       "text": [
        "CoordinateGrid(dimensions=[Dimension(cyclic=False, format_string='{name} = {val}{unit}', name='X', range=(0, 0), type=None, unit=None), Dimension(cyclic=False, format_string='{name} = {val}{unit}', name='Y', range=(0, 0), type=None, unit=None)], label='CFs', name='CoordinateGrid01457', title='V1 Afferent {label}')"
       ]
      }
     ],
     "prompt_number": 40
    },
    {
     "cell_type": "markdown",
     "metadata": {},
     "source": [
      "Snapshots of the retinal and V1 activity over development. Notice how the activity in V1 becomes more focused over time as the kernel radius decreases:"
     ]
    },
    {
     "cell_type": "code",
     "collapsed": false,
     "input": [
      "data.Activity.Retina + data.Activity.V1"
     ],
     "language": "python",
     "metadata": {},
     "outputs": [
      {
       "output_type": "pyout",
       "prompt_number": 41,
       "text": [
        "GridLayout(dimensions=[Dimension(cyclic=False, format_string='{name} = {val}{unit}', name='Row', range=(0, 0), type=<type 'int'>, unit=None), Dimension(cyclic=False, format_string='{name} = {val}{unit}', name='Column', range=(0, 0), type=<type 'int'>, unit=None)], name='GridLayout214285')"
       ]
      }
     ],
     "prompt_number": 41
    },
    {
     "cell_type": "markdown",
     "metadata": {},
     "source": [
      "## Exploring the parameters of the SOM \n",
      "\n",
      "Now, you can re-run the basic simulation by restarting the IPython Notebook Kernel (<code>Kernel -> Restart</code>) or using the keyboard Shortcut ``Ctrl+M .`` (see <code>Help -> Keyboard Shortcuts</code> for the full list). Then you can change one of the parameter values, either by editing the model definition above before running those cells, or (usually clearer) by setting the parameters in the cell labelled ``In [2]``.\n",
      "\n",
      "For instance, the starting value of the neighborhood radius (from which all future values are calculated according to exponential decay) is 1.0. You can change this value as you see fit, e.g. to 0.1, by setting ``p.radius_0=0.1``. With such a small learning radius, global ordering is unlikely to happen, and one can expect the topographic grid not to flatten out (despite local order in patches).\n",
      "\n",
      "Similarly, consider changing the initial learning rate from 0.42 to e.g. 1.0 (e.g. by setting ``p.alpha_0=1.0`` in cell 2). The retina and V1 densities cannot be changed after the simulation has started, but again, they can be changed by providing their values above and restarting the notebook.\n",
      "\n",
      "You can also try changing the input_seed (``p.input_seed=XX``), to get a different stream of inputs, or weight_seed (``p.weight_seed=XX``), to get a different set of initial weights. With some of these values, you may encounter cases where the SOM fails to converge even though it seems to be working properly otherwise. For instance, some seed values result in topological defects."
     ]
    }
   ],
   "metadata": {}
  }
 ]
}