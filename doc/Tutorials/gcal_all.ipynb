{
 "metadata": {
  "name": "",
  "signature": "sha256:287d9202a2bc7a0e4a27e265e8ecaa6291ba70e5a2a94119c4132302c68af87a"
 },
 "nbformat": 3,
 "nbformat_minor": 0,
 "worksheets": [
  {
   "cells": [
    {
     "cell_type": "heading",
     "level": 1,
     "metadata": {},
     "source": [
      "GCAL model with multiple maps"
     ]
    },
    {
     "cell_type": "markdown",
     "metadata": {},
     "source": [
      "This tutorial shows how to use the GCAL model to explore the development of preferences for a wide variety of feature maps, including retinotopy, orientation, ocular dominance, disparity, motion direction, spatial frequency, and color.  Each of these are called \"dimensions\", which are controlled by the <tt>dims</tt> parameter.  For instance, `dims=['xy','or']` works the same as the regular [GCAL Orientation Map Tutorial](http://ioam.github.io/media/topo/GCAL_Tutorial.html), because it specifies that the only dimensions that will be varied on the input are `xy` (spatial position, leading to a retinotopic map) and `or` (orientation, leading to an orientation map).  The other dimensions can be supplied similarly below.  Throughout this tutorial, there will be sections that apply only to particular dimensions; these will be skipped automatically if that dimension has not been selected.\n",
      "\n",
      "For some dimensions, there are very many different ways they could be modelled, both for the input patterns and for the neural model.  For instance, the motion direction dimension (e.g. `dims=['xy','or','dr']`) uses oriented Gaussian patterns swept perpendicularly to their orientation axis, but many other types of motion exist and could be added as options.  Similarly, at the neural level, there are many ways to allow neurons to have a preference for motion direction, but here by default it is done by adding multiple lagged projections to V1, such that V1 receives input from various different times in the past.\n",
      "\n",
      "See [Fischer (2014)](http://homepages.inf.ed.ac.uk/jbednar/papers/fischer.ms14.pdf) for a discussion of the various dimensions supported.\n"
     ]
    },
    {
     "cell_type": "heading",
     "level": 2,
     "metadata": {},
     "source": [
      "Imports"
     ]
    },
    {
     "cell_type": "code",
     "collapsed": false,
     "input": [
      "import datetime\n",
      "start_time = datetime.datetime.now()\n",
      "\n",
      "%reload_ext topo.misc.ipython\n",
      "%output webm:5    "
     ],
     "language": "python",
     "metadata": {},
     "outputs": []
    },
    {
     "cell_type": "code",
     "collapsed": false,
     "input": [
      "import topo\n",
      "from topo.command import load_snapshot, save_snapshot, save_script_repr\n",
      "\n",
      "from topo.analysis import Collector\n",
      "from imagen.analysis import fft_power_spectrum\n",
      "from featuremapper.analysis.pinwheels import PinwheelAnalysis\n",
      "from featuremapper.analysis.hypercolumns import PowerSpectrumAnalysis\n",
      "\n",
      "import holoviews\n",
      "from holoviews import ViewMap, Points, Matrix\n",
      "from holoviews.operation import vectorfield\n",
      "\n",
      "from topo.submodel.color import ModelGCALColor\n",
      "\n",
      "import time, os \n",
      "from holoviews.plotting import PlotSaver"
     ],
     "language": "python",
     "metadata": {},
     "outputs": []
    },
    {
     "cell_type": "heading",
     "level": 2,
     "metadata": {},
     "source": [
      "Define the model"
     ]
    },
    {
     "cell_type": "code",
     "collapsed": false,
     "input": [
      "# Uncomment to see all of the options available for use below\n",
      "#%params ModelGCALColor"
     ],
     "language": "python",
     "metadata": {},
     "outputs": []
    },
    {
     "cell_type": "code",
     "collapsed": false,
     "input": [
      "simulations = { \n",
      "    # Parameters to match published simulations\n",
      "    \"fischer:ms14 fig6.1\":      dict(dims=['xy','or'],cortex_density=141),\n",
      "    \"fischer:ms14 fig6.2-3\":    dict(dims=['xy','or','od'],cortex_density=141),\n",
      "    \"fischer:ms14 fig6.5-6\":    dict(dims=['xy','or','dy'],cortex_density=141),\n",
      "    \"fischer:ms14 fig6.7-8\":    dict(dims=['xy','or','od','dy'],cortex_density=141),\n",
      "    \"fischer:ms14 fig6.9-11\":   dict(dims=['xy','or','dr'],num_inputs=1,\n",
      "                                     speed=3.0/24.0,aff_lr=0.1/4.0,\n",
      "                                     aff_strength=1.5,cortex_density=141),\n",
      "\n",
      "    \"fischer:ms14 fig6.12-13\":  dict(dims=['xy','or','cr'],dataset='FoliageA',\n",
      "                                     strength_factor=0.75,color_strength=0.3,\n",
      "                                     cone_scale=[0.80,0.75,0.80]),\n",
      "\n",
      "    \"fischer:ms14 fig6.14\":     dict(dims=['xy','or','od','cr'],dataset='FoliageA',\n",
      "                                     strength_factor=0.75,color_strength=0.3,\n",
      "                                     cone_scale=[0.80,0.75,0.80]), # Estimated\n",
      "\n",
      "    \"fischer:ms14 fig6.15-16b\": dict(dims=['xy','or','sf'],dataset='FoliageA'), # Estimated\n",
      "    \"fischer:ms14 fig6.16c\":    dict(dims=['xy','or','sf'],dataset='FoliageA',\n",
      "                                     sf_spacing=2.5,sf_channels=3,gain_control_SF=True),\n",
      "\n",
      "    # Other potentially useful simulations\n",
      "    \"retinotopic map\":          dict(dims=['xy']),\n",
      "    \"all maps\":                 dict(dims=['xy','or','od','dy','cr','sf','dr'],dataset='FoliageA'),\n",
      "    \"all maps but sf\":          dict(dims=['xy','or','od','dy','cr','dr']),\n",
      "}\n",
      "\n",
      "# Special parameters overriding those above, if desired, e.g. to reduce time and memory requirements\n",
      "overrides = dict(cortex_density=48)# cortex_density was 63 for most fisher:ms14 simulations\n",
      "\n",
      "# Choose desired simulation here\n",
      "params = dict(simulations[\"fischer:ms14 fig6.7-8\"],**overrides)"
     ],
     "language": "python",
     "metadata": {},
     "outputs": []
    },
    {
     "cell_type": "code",
     "collapsed": false,
     "input": [
      "topo.sim.model = ModelGCALColor(**params)"
     ],
     "language": "python",
     "metadata": {},
     "outputs": []
    },
    {
     "cell_type": "code",
     "collapsed": false,
     "input": [
      "gcal=topo.sim.model.setup() "
     ],
     "language": "python",
     "metadata": {},
     "outputs": []
    },
    {
     "cell_type": "code",
     "collapsed": false,
     "input": [
      "times=[10000] # Determines total duration of simulation, plus frequency of generating plots, e.g. [100,1000,10000]"
     ],
     "language": "python",
     "metadata": {},
     "outputs": []
    },
    {
     "cell_type": "heading",
     "level": 2,
     "metadata": {},
     "source": [
      "Define plotting and analysis"
     ]
    },
    {
     "cell_type": "code",
     "collapsed": false,
     "input": [
      "save_plots=False # Set this to true if you want .png files saved externally"
     ],
     "language": "python",
     "metadata": {},
     "outputs": []
    },
    {
     "cell_type": "code",
     "collapsed": false,
     "input": [
      "dim_or='or' in topo.sim.model.dims\n",
      "dim_od='od' in topo.sim.model.dims\n",
      "dim_dy='dy' in topo.sim.model.dims\n",
      "dim_dr='dr' in topo.sim.model.dims\n",
      "dim_sf='sf' in topo.sim.model.dims\n",
      "dim_cr='cr' in topo.sim.model.dims\n",
      "\n",
      "twoeyes = dim_od or dim_dy"
     ],
     "language": "python",
     "metadata": {},
     "outputs": []
    },
    {
     "cell_type": "code",
     "collapsed": false,
     "input": [
      "c = Collector()\n",
      "\n",
      "# Projection activities\n",
      "for proj in gcal.projections:\n",
      "     if proj.dest.level=='V1' and proj.src.level=='LGN':\n",
      "         c.set_path('Activity'+'.'+proj.parameters['name'],\n",
      "                    c.collect(gcal.projections[('V1', proj.parameters['name'])]))"
     ],
     "language": "python",
     "metadata": {},
     "outputs": []
    },
    {
     "cell_type": "code",
     "collapsed": false,
     "input": [
      "# Preference map measurements\n",
      "from topo.analysis.command import measure_or_pref, \\\n",
      "    measure_od_pref, measure_phasedisparity, measure_dr_pref, \\\n",
      "    measure_sine_pref, measure_hue_pref\n",
      "\n",
      "if(dim_or and not dim_sf and not dim_dr): c.collect(measure_or_pref)\n",
      "if(twoeyes): c.collect(measure_od_pref)\n",
      "if(dim_dy):  c.collect(measure_phasedisparity)\n",
      "if(dim_dr):  c.collect(measure_dr_pref)\n",
      "if(dim_sf):  c.collect(measure_sine_pref)\n",
      "if(dim_cr):  c.collect(measure_hue_pref)"
     ],
     "language": "python",
     "metadata": {},
     "outputs": []
    },
    {
     "cell_type": "code",
     "collapsed": false,
     "input": [
      "# Sheet activities\n",
      "for sheet_item in gcal.sheets:\n",
      "    if sheet_item.level=='Retina' or sheet_item.level=='V1':\n",
      "        c.set_path('Activity'+'.'+str(sheet_item), c.collect(gcal.sheets[str(sheet_item)]))\n",
      "\n",
      "for proj in gcal.projections:\n",
      "     if proj.dest.level=='V1' and proj.src.level=='LGN':\n",
      "         c.set_path('CFs'+'.'+proj.parameters['name'],\n",
      "                    c.collect(gcal.projections[('V1', proj.parameters['name'])],grid=True))\n",
      "            \n",
      "# Analysis\n",
      "c.FFTPowerSpectrum.V1 = c.analyze(c.ref.OrientationPreference.V1, fft_power_spectrum)\n",
      "c.Pinwheels.V1 =        c.analyze(c.ref.OrientationPreference.V1\n",
      "                                  * c.ref.OrientationSelectivity.V1, PinwheelAnalysis)\n",
      "c.FFTAnalysis.V1 =      c.analyze(c.ref.Pinwheels.V1, PowerSpectrumAnalysis)"
     ],
     "language": "python",
     "metadata": {},
     "outputs": []
    },
    {
     "cell_type": "heading",
     "level": 2,
     "metadata": {},
     "source": [
      "Example input patterns"
     ]
    },
    {
     "cell_type": "code",
     "collapsed": false,
     "input": [
      "color_example = dim_cr and topo.sim.model.dataset!='Gaussian'\n",
      "\n",
      "# Monochrome training patterns:\n",
      "gcal.training_patterns.LeftRetina.anim(50) + \\\n",
      "gcal.training_patterns.RightRetina.anim(50) if twoeyes else \\\n",
      "gcal.training_patterns.Retina.anim(50) if not color_example else None"
     ],
     "language": "python",
     "metadata": {},
     "outputs": []
    },
    {
     "cell_type": "code",
     "collapsed": false,
     "input": [
      "# Color training patterns:\n",
      "if color_example:\n",
      "    eyes = [gcal.sheets.LeftRetina,gcal.sheets.RightRetina] if twoeyes else [gcal.sheets.Retina]\n",
      "    animated_RGB = [None for e in eyes]\n",
      "    for (e,eye) in enumerate(eyes):\n",
      "          \n",
      "        gen = eye.parameters['input_generator'].generators\n",
      "    \n",
      "        dataset_length=len(gen)\n",
      "        R = [Matrix(gen[i].channels()[0], label='Red Channel'  ) for i in range(0,dataset_length)]\n",
      "        G = [Matrix(gen[i].channels()[1], label='Green Channel') for i in range(0,dataset_length)]\n",
      "        B = [Matrix(gen[i].channels()[2], label='Blue Channel' ) for i in range(0,dataset_length)]\n",
      "        rgb_overlay=[R[i]*G[i]*B[i] for i in range(0,dataset_length)]\n",
      "    \n",
      "        animated_RGB[e] = ViewMap(dimensions=['Time'])\n",
      "        for t in range(0,dataset_length):\n",
      "            animated_RGB[e][t] = rgb_overlay[t]\n",
      "    \n",
      "    holoviews.core.options.channels['RGB_Image'] = \\\n",
      "    holoviews.operation.ChannelOpts('RGBA', 'Red Channel * Green Channel * Blue Channel')\n",
      "\n",
      "sum(animated_RGB[1:],animated_RGB[0]) if color_example else None\n"
     ],
     "language": "python",
     "metadata": {},
     "outputs": []
    },
    {
     "cell_type": "heading",
     "level": 2,
     "metadata": {},
     "source": [
      "Training the network (slow!)"
     ]
    },
    {
     "cell_type": "code",
     "collapsed": false,
     "input": [
      "print(\"Collection will start at iteration %d and end on iteration %d\" % (min(times), max(times)))"
     ],
     "language": "python",
     "metadata": {},
     "outputs": []
    },
    {
     "cell_type": "code",
     "collapsed": false,
     "input": [
      "data = c(times=times)"
     ],
     "language": "python",
     "metadata": {},
     "outputs": []
    },
    {
     "cell_type": "code",
     "collapsed": false,
     "input": [
      "str(datetime.datetime.now()-start_time) # Real time elapsed since starting this run"
     ],
     "language": "python",
     "metadata": {},
     "outputs": []
    },
    {
     "cell_type": "heading",
     "level": 2,
     "metadata": {},
     "source": [
      "Results"
     ]
    },
    {
     "cell_type": "heading",
     "level": 3,
     "metadata": {},
     "source": [
      "Activity patterns"
     ]
    },
    {
     "cell_type": "code",
     "collapsed": false,
     "input": [
      "data.Activity.V1\n",
      "\n",
      "\n",
      "\n"
     ],
     "language": "python",
     "metadata": {},
     "outputs": []
    },
    {
     "cell_type": "code",
     "collapsed": false,
     "input": [
      "data.Activity.grid().cols(4)"
     ],
     "language": "python",
     "metadata": {},
     "outputs": []
    },
    {
     "cell_type": "heading",
     "level": 3,
     "metadata": {},
     "source": [
      "On-Off connection fields"
     ]
    },
    {
     "cell_type": "code",
     "collapsed": false,
     "input": [
      "%output 150"
     ],
     "language": "python",
     "metadata": {},
     "outputs": []
    },
    {
     "cell_type": "code",
     "collapsed": false,
     "input": [
      "eyes = ['Left','Right'] if twoeyes else ['']\n",
      "sfs = ['','SF2'] if dim_sf else ['']\n",
      "\n",
      "on_minus_off = []\n",
      "for (e,eye) in enumerate(eyes):\n",
      "    for l in gcal['lags']:\n",
      "        for (s,sf) in enumerate(sfs):\n",
      "            luminosityname = \"RedGreenBlueRedGreenBlue\" if dim_cr and s==0 else \"\"\n",
      "            plot=(data.CFs[eye+luminosityname+\"LGNOnAfferent\" +sf+(\"\" if l==0 else \"Lag\"+str(l))] * \n",
      "                  data.CFs[eye+luminosityname+\"LGNOffAfferent\"+sf+(\"\" if l==0 else \"Lag\"+str(l))])\n",
      "            plot.title = ((\"\" if l==0 else \"Lag\"+str(l)) +\" \"+sf + eye + ' ' + luminosityname + ' ON-OFF CFs').strip()\n",
      "            on_minus_off += [plot]\n",
      "\n",
      "defaultproj=0\n",
      "num_lags=len(gcal['lags'])\n",
      "\n",
      "on_minus_off[0] if len(on_minus_off)==1 else sum(on_minus_off[1:],on_minus_off[0]).cols(num_lags if num_lags>1 else 4)"
     ],
     "language": "python",
     "metadata": {},
     "outputs": []
    },
    {
     "cell_type": "heading",
     "level": 3,
     "metadata": {},
     "source": [
      "Orientation map"
     ]
    },
    {
     "cell_type": "code",
     "collapsed": false,
     "input": [
      "%output 150"
     ],
     "language": "python",
     "metadata": {},
     "outputs": []
    },
    {
     "cell_type": "code",
     "collapsed": false,
     "input": [
      "%%opts Points color='w' marker='*' s=100 edgecolors='k'\n",
      "annotated_map = (data.OrientationPreference.V1 \n",
      "                 * data.OrientationSelectivity.V1\n",
      "                 * Points(on_minus_off[defaultproj][0,-0.3:0.3].keys())) if dim_or else None\n",
      "annotated_map << on_minus_off[defaultproj][0,-0.3:0.3] << data.OrientationPreference.V1.hist(adjoin=False) if dim_or else None"
     ],
     "language": "python",
     "metadata": {},
     "outputs": []
    },
    {
     "cell_type": "heading",
     "level": 3,
     "metadata": {},
     "source": [
      "Ocularity map"
     ]
    },
    {
     "cell_type": "code",
     "collapsed": false,
     "input": [
      "%opts Preference_SheetView cmap=\"gray\"\n",
      "(data.OcularPreference.V1 << data.OcularPreference.V1.hist(adjoin=False)) + \\\n",
      "    (data.OcularSelectivity.V1 << data.OcularSelectivity.V1.hist(adjoin=False)) if twoeyes else None"
     ],
     "language": "python",
     "metadata": {},
     "outputs": []
    },
    {
     "cell_type": "code",
     "collapsed": false,
     "input": [
      "%%opts Level_Contours linewidths=5 color='k' Pinwheels_Points linewidth=2\n",
      "pins = data.Pinwheels.V1.select(Duration=max(gcal['lags'])+1,Time=times[-1])[3] if dim_or else None\n",
      "od_contours = holoviews.operation.contours(data.OcularPreference.V1). \\\n",
      "    select(Duration=max(gcal['lags'])+1,Time=times[-1])[1] if twoeyes else None\n",
      "data.OrientationPreference.V1.select(Duration=max(gcal['lags'])+1,Time=times[-1]) * pins * od_contours if twoeyes and dim_or else None"
     ],
     "language": "python",
     "metadata": {},
     "outputs": []
    },
    {
     "cell_type": "heading",
     "level": 3,
     "metadata": {},
     "source": [
      "Disparity map"
     ]
    },
    {
     "cell_type": "code",
     "collapsed": false,
     "input": [
      "data.PhasedisparityPreference.V1 * data.PhasedisparitySelectivity.V1 << data.PhasedisparityPreference.V1.hist(adjoin=False) \\\n",
      "    if dim_dy else None"
     ],
     "language": "python",
     "metadata": {},
     "outputs": []
    },
    {
     "cell_type": "heading",
     "level": 3,
     "metadata": {},
     "source": [
      "Direction map"
     ]
    },
    {
     "cell_type": "markdown",
     "metadata": {},
     "source": [
      "Preference only"
     ]
    },
    {
     "cell_type": "code",
     "collapsed": false,
     "input": [
      "data.DirectionPreference.V1 << data.DirectionPreference.V1.hist(adjoin=False) if dim_dr else None"
     ],
     "language": "python",
     "metadata": {},
     "outputs": []
    },
    {
     "cell_type": "markdown",
     "metadata": {},
     "source": [
      "Preference + Selectivity"
     ]
    },
    {
     "cell_type": "code",
     "collapsed": false,
     "input": [
      "data.DirectionPreference.V1 * data.DirectionSelectivity.V1 << data.DirectionPreference.V1.hist(adjoin=False) \\\n",
      "    if dim_dr else None"
     ],
     "language": "python",
     "metadata": {},
     "outputs": []
    },
    {
     "cell_type": "code",
     "collapsed": false,
     "input": [
      "%output 300"
     ],
     "language": "python",
     "metadata": {},
     "outputs": []
    },
    {
     "cell_type": "code",
     "collapsed": false,
     "input": [
      "%%opts VectorField [color_dim='angle' normalize_individually=False] cmap='hsv' linewidth=1 edgecolors='k'\n",
      "dir_vf = vectorfield(data.DirectionPreference.V1 * data.DirectionSelectivity.V1, rows=10, cols=10) if dim_dr else None\n",
      "\n",
      "data.OrientationPreference.V1 * data.OrientationSelectivity.V1 * dir_vf << \\\n",
      "    data.OrientationPreference.V1.hist(adjoin=False) if dim_dr else None"
     ],
     "language": "python",
     "metadata": {},
     "outputs": []
    },
    {
     "cell_type": "heading",
     "level": 3,
     "metadata": {},
     "source": [
      "Spatial frequency map"
     ]
    },
    {
     "cell_type": "code",
     "collapsed": false,
     "input": [
      "%output 150"
     ],
     "language": "python",
     "metadata": {},
     "outputs": []
    },
    {
     "cell_type": "code",
     "collapsed": false,
     "input": [
      "data.FrequencyPreference.V1 * data.FrequencySelectivity.V1 << data.FrequencyPreference.V1.hist(adjoin=False) \\\n",
      "    if dim_sf else None"
     ],
     "language": "python",
     "metadata": {},
     "outputs": []
    },
    {
     "cell_type": "code",
     "collapsed": false,
     "input": [
      "%%opts FrequencyPreference_SheetView cmap='gray'\n",
      "data.FrequencyPreference.V1 << data.FrequencyPreference.V1.hist(adjoin=False) \\\n",
      "    if dim_sf else None"
     ],
     "language": "python",
     "metadata": {},
     "outputs": []
    },
    {
     "cell_type": "heading",
     "level": 3,
     "metadata": {},
     "source": [
      "Color map"
     ]
    },
    {
     "cell_type": "code",
     "collapsed": false,
     "input": [
      "data.HuePreference.V1 * data.HueSelectivity.V1 << data.HuePreference.V1.hist(adjoin=False) \\\n",
      "    if dim_cr else None"
     ],
     "language": "python",
     "metadata": {},
     "outputs": []
    },
    {
     "cell_type": "heading",
     "level": 3,
     "metadata": {},
     "source": [
      "Phase preference"
     ]
    },
    {
     "cell_type": "code",
     "collapsed": false,
     "input": [
      "%output 100"
     ],
     "language": "python",
     "metadata": {},
     "outputs": []
    },
    {
     "cell_type": "code",
     "collapsed": false,
     "input": [
      "if dim_or:\n",
      "    OR_HCS = data.OrientationPreference.V1 * data.OrientationSelectivity.V1\n",
      "    phase_HCS = data.PhasePreference.V1 * data.PhaseSelectivity.V1\n",
      "    top_row = OR_HCS + data.OrientationPreference.V1.hist() + data.OrientationSelectivity.V1.hist() \n",
      "    bottom_row =  phase_HCS + data.PhasePreference.V1.hist() + data.PhaseSelectivity.V1.hist()\n",
      "(top_row + bottom_row).cols(3) if dim_or else None"
     ],
     "language": "python",
     "metadata": {},
     "outputs": []
    },
    {
     "cell_type": "heading",
     "level": 3,
     "metadata": {},
     "source": [
      "Orientation pinwheels + FFT analysis"
     ]
    },
    {
     "cell_type": "code",
     "collapsed": false,
     "input": [
      "%output 120"
     ],
     "language": "python",
     "metadata": {},
     "outputs": []
    },
    {
     "cell_type": "code",
     "collapsed": false,
     "input": [
      "if dim_or: \n",
      "    for t in times:\n",
      "        data.FFTPowerSpectrum.V1.select(Duration=max(gcal['lags'])+1,Time=t) \\\n",
      "                .bounds=holoviews.core.boundingregion.BoundingBox(radius=20.0)\n",
      "            \n",
      "((data.Pinwheels.V1.hist(index=0) + data.FFTPowerSpectrum.V1.map(lambda x,k: x.roi)) + data.FFTAnalysis.V1).cols(2) if dim_or else None"
     ],
     "language": "python",
     "metadata": {},
     "outputs": []
    },
    {
     "cell_type": "heading",
     "level": 2,
     "metadata": {},
     "source": [
      "Save output for external use"
     ]
    },
    {
     "cell_type": "code",
     "collapsed": false,
     "input": [
      "notebook_suffix='/'\n",
      "notebook_folder=''.join(topo.sim.model.dims).upper() + time.strftime(\"-%Y-%m-%d-%H%M\")+notebook_suffix"
     ],
     "language": "python",
     "metadata": {},
     "outputs": []
    },
    {
     "cell_type": "code",
     "collapsed": false,
     "input": [
      "%opts Level_Contours color='k'\n",
      "%opts Level_Contours linewidths=3\n",
      "\n",
      "\n",
      "def save_plot(time,data_,filebase,selection={\"Duration\":max(gcal['lags'])+1},hist=True):\n",
      "    \"\"\"\n",
      "    Save a plot of the given data_to a file whose name includes filebase.\n",
      "    The selection can be anything accepted by .select.\n",
      "    \"\"\"\n",
      "    dat = data_.select(Time=time,**selection) if hist==False else \\\n",
      "          data_.select(Time=time,**selection).hist(adjoin=True,index=0)\n",
      "    PlotSaver(dat,filename=notebook_folder+filebase+str(time)+'.png')\n",
      "    \n",
      "    \n",
      "def save_pref_map(name):\n",
      "    \"\"\"Save preference, selectivity, and pref+select plots for the given feature map\"\"\"\n",
      "    save_plot(time,data[name+\"Preference\"].V1,name+'P_')\n",
      "    save_plot(time,data[name+\"Selectivity\"].V1,name+'S_')\n",
      "    save_plot(time,data[name+\"Preference\"].V1*data[name+\"Selectivity\"].V1,name+'PS_')\n",
      "    \n",
      "    \n",
      "if save_plots:\n",
      "    if not os.path.exists(notebook_folder): os.mkdir(notebook_folder)\n",
      "    save_snapshot(notebook_folder+'snapshot.typ')\n",
      "    save_script_repr(notebook_folder+'script_repr.ty')\n",
      "\n",
      "    for time in times:\n",
      "        if dim_or:\n",
      "            save_pref_map('Orientation')\n",
      "            save_pref_map('Phase')\n",
      "            save_plot(time,data.Pinwheels.V1,'OrientationPinwheels_')\n",
      "            save_plot(time,data.FFTPowerSpectrum.V1.roi,'OrientationFFTPower_',hist=False)        \n",
      "            save_plot(time,data.FFTAnalysis.V1.get((0,0)),'OrientationFFTHist_',hist=False)\n",
      "    \n",
      "        if dim_dr:\n",
      "            save_pref_map('Direction')\n",
      "            save_plot(time,data.OrientationPreference.V1*data.OrientationSelectivity.V1*dir_vf,\n",
      "                      'DirectionArrows_')\n",
      "        if dim_od:\n",
      "            save_plot(time,data.OrientationPreference.V1 * pins * od_contours,'Ocular_Contours')\n",
      "    \n",
      "        if twoeyes: save_pref_map('Ocular')\n",
      "        if dim_dy:  save_pref_map('Disparity')\n",
      "        if dim_cr:  save_pref_map('Hue')"
     ],
     "language": "python",
     "metadata": {},
     "outputs": []
    },
    {
     "cell_type": "code",
     "collapsed": false,
     "input": [
      "end_time = datetime.datetime.now()\n",
      "str(end_time-start_time)"
     ],
     "language": "python",
     "metadata": {},
     "outputs": []
    },
    {
     "cell_type": "markdown",
     "metadata": {},
     "source": [
      "End of notebook"
     ]
    }
   ],
   "metadata": {}
  }
 ]
}